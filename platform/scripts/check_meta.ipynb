{
 "cells": [
  {
   "cell_type": "code",
   "execution_count": 3,
   "metadata": {},
   "outputs": [
    {
     "name": "stdout",
     "output_type": "stream",
     "text": [
      "Row with name spring-projects/spring-data-commons found\n",
      "('41bf24e9-5243-4919-af1c-31d7cdc780c5', None, None, None, 'spring-projects/spring-data-commons')\n"
     ]
    }
   ],
   "source": [
    "import mysql.connector\n",
    "\n",
    "# Establish a connection to the MySQL server\n",
    "cnx = mysql.connector.connect(\n",
    "    host=\"10.176.34.95\",\n",
    "    user=\"root\",\n",
    "    password=\"1235\",\n",
    "    database=\"code_annotation2\"\n",
    ")\n",
    "\n",
    "# Create a cursor object to execute SQL queries\n",
    "cursor = cnx.cursor()\n",
    "\n",
    "# Define the SQL query to select all rows from the project_name table\n",
    "query = \"SELECT * FROM project_name\"\n",
    "\n",
    "# Execute the query\n",
    "cursor.execute(query)\n",
    "\n",
    "# Fetch all the rows from the result set\n",
    "result = cursor.fetchall()\n",
    "\n",
    "\n",
    "target_name = \"spring-projects/spring-data-commons\"\n",
    "found = False\n",
    "\n",
    "for row in result:\n",
    "    if row[4] == target_name:\n",
    "        found = True\n",
    "        break\n",
    "\n",
    "if found:\n",
    "    print(\"Row with name\", target_name, \"found\")\n",
    "    print(row)\n",
    "else:\n",
    "    print(\"Row with name\", target_name, \"not found\")\n",
    "\n",
    "# Close the cursor and connection\n",
    "cursor.close()\n",
    "cnx.close()"
   ]
  }
 ],
 "metadata": {
  "kernelspec": {
   "display_name": "ICSE2023",
   "language": "python",
   "name": "python3"
  },
  "language_info": {
   "codemirror_mode": {
    "name": "ipython",
    "version": 3
   },
   "file_extension": ".py",
   "mimetype": "text/x-python",
   "name": "python",
   "nbconvert_exporter": "python",
   "pygments_lexer": "ipython3",
   "version": "3.9.18"
  }
 },
 "nbformat": 4,
 "nbformat_minor": 2
}
